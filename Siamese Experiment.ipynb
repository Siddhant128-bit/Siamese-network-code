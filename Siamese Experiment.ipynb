{
 "cells": [
  {
   "attachments": {},
   "cell_type": "markdown",
   "metadata": {},
   "source": [
    "\n",
    "<h4>Siamese Algorithm Approoach </h4>"
   ]
  },
  {
   "cell_type": "code",
   "execution_count": 133,
   "metadata": {},
   "outputs": [],
   "source": [
    "import tensorflow as tf\n",
    "from keras.applications.resnet import ResNet152 \n",
    "import numpy as np\n",
    "from PIL import Image\n",
    "import tensorflow.keras.backend as K\n",
    "from tensorflow.keras.layers import Input, Lambda\n",
    "from tensorflow.keras.models import Model\n",
    "from tensorflow.keras.preprocessing import image\n",
    "import cv2"
   ]
  },
  {
   "cell_type": "code",
   "execution_count": 139,
   "metadata": {},
   "outputs": [],
   "source": [
    "def euclidean_distance(vectors):\n",
    "    features_A, features_B = vectors\n",
    "    sum_squared = K.sum(K.square(features_A - features_B), axis=1, keepdims=True)\n",
    "    return K.sqrt(K.maximum(sum_squared, K.epsilon()))\n",
    "\n",
    "def Siamese_Network(input_shape=(224, 224, 3)):\n",
    "    input_1 = Input(shape=input_shape)\n",
    "    input_2 = Input(shape=input_shape)\n",
    "    base_model = ResNet152(include_top=False, weights='imagenet')\n",
    "    left_features = base_model(input_1)\n",
    "    right_features = base_model(input_2)\n",
    "\n",
    "    distance = Lambda(euclidean_distance)([left_features, right_features])\n",
    "    model = Model(inputs=[input_1, input_2], outputs=distance)\n",
    "\n",
    "    return model\n",
    "\n",
    "def convert_image_to_tensor(path):\n",
    "    #img = image.load_img(path, target_size=(224, 224))\n",
    "    img=cv2.imread(path)\n",
    "    img=cv2.cvtColor(img,cv2.COLOR_RGB2HSV)\n",
    "    img=cv2.resize(img,(224,224))\n",
    "    img = image.img_to_array(img)\n",
    "    img = np.expand_dims(img, axis=0)\n",
    "    img = img / 255.0  # Normalize pixel values to [0, 1]\n",
    "    return img\n",
    "\n",
    "\n",
    "siamese_model = Siamese_Network()"
   ]
  },
  {
   "cell_type": "code",
   "execution_count": 145,
   "metadata": {},
   "outputs": [
    {
     "name": "stdout",
     "output_type": "stream",
     "text": [
      "1/1 [==============================] - 0s 379ms/step\n",
      "1.4322629\n"
     ]
    }
   ],
   "source": [
    "image_one = convert_image_to_tensor('red_1.jpg')\n",
    "image_another = convert_image_to_tensor('red_2.jpg')\n",
    "output = siamese_model.predict([image_one, image_another])\n",
    "output=np.max(output[0][0])\n",
    "print(output)"
   ]
  }
 ],
 "metadata": {
  "kernelspec": {
   "display_name": "Fuse_Soccer_Attempt_Cuda",
   "language": "python",
   "name": "python3"
  },
  "language_info": {
   "codemirror_mode": {
    "name": "ipython",
    "version": 3
   },
   "file_extension": ".py",
   "mimetype": "text/x-python",
   "name": "python",
   "nbconvert_exporter": "python",
   "pygments_lexer": "ipython3",
   "version": "3.11.3"
  },
  "orig_nbformat": 4
 },
 "nbformat": 4,
 "nbformat_minor": 2
}
